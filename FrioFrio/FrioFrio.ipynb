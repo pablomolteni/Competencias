{
 "cells": [
  {
   "cell_type": "markdown",
   "metadata": {},
   "source": [
    "# Introducción\n",
    "https://metadata.fundacionsadosky.org.ar/competition/20/\n",
    "\n",
    "Una “oportunidad” consiste en un proyecto de venta o instalación de equipos para un cliente. La venta se estructura alrededor de TRF (Toneladas de refrigeración) y puede estar compuesta por varios productos distintos. El \"pipeline\" hace referencia al flujo de oportunidades prospecto que la empresa está desarrollando. El equipo comercial asigna a distintos momentos, para cada oportunidad, un estado en la negociación. En la Ilustración se muestran los estados que las oportunidades tienen dentro del pipeline.\n",
    "\n",
    "La variable que se está tratando de predecir es “Probabilidad de éxito” para cada oportunidad. ¿Cuál es la probabilidad de que la oportunidad se convierta en un caso Closed Won?\n",
    "\n",
    "#### Evaluación\n",
    "\n",
    "La calificación de la competencia se logra, en un 50%, con el resultado de las predicciones. La métrica elegida para el set de validación es la función de Logistic Loss (Log Loss). https://scikit-learn.org/stable/modules/model_evaluation.html#log-loss\n",
    "\n",
    "En el tablero se puede ver la evaluación de la solución propuesta en una muestra del set de validación. Esta muestra puede variar durante la competencia. El total del conjunto de datos de validación se reserva hasta el final de la competencia.\n",
    "\n",
    "El 50% restante se obtiene presentando un informe donde se deberá explicar qué tratamiento hicieron en los datos y una explicación sobre el modelo propuesto. La nota la otorga un jurado ad-hoc de especialistas en el tema evaluando el informe.\n",
    "\n",
    "Las predicciones se deben enviar en un archivo CSV sin encabezado conteniendo solamente la identificación de la oportunidad (Opportunity_ID) del dataset de valuación y la columna de predicciones (score). A continuación, se muestran tres filas de un archivo de predicciones típico:\n",
    "\n",
    "Opportunity_ID, score\n",
    "\n",
    "10689, 0.33\n",
    "\n",
    "10690, 0.9853289\n",
    "\n",
    "10691, 0.70956707\n",
    "\n",
    "etc."
   ]
  },
  {
   "cell_type": "code",
   "execution_count": 1,
   "metadata": {},
   "outputs": [],
   "source": [
    "# Importo librerías a utillizar\n",
    "import numpy as np\n",
    "import pandas as pd\n",
    "from sklearn.metrics import log_loss"
   ]
  },
  {
   "cell_type": "code",
   "execution_count": 2,
   "metadata": {
    "scrolled": true
   },
   "outputs": [
    {
     "data": {
      "text/html": [
       "<div>\n",
       "<style scoped>\n",
       "    .dataframe tbody tr th:only-of-type {\n",
       "        vertical-align: middle;\n",
       "    }\n",
       "\n",
       "    .dataframe tbody tr th {\n",
       "        vertical-align: top;\n",
       "    }\n",
       "\n",
       "    .dataframe thead th {\n",
       "        text-align: right;\n",
       "    }\n",
       "</style>\n",
       "<table border=\"1\" class=\"dataframe\">\n",
       "  <thead>\n",
       "    <tr style=\"text-align: right;\">\n",
       "      <th></th>\n",
       "      <th>Region</th>\n",
       "      <th>Territory</th>\n",
       "      <th>Pricing, Delivery_Terms_Quote_Appr</th>\n",
       "      <th>Pricing, Delivery_Terms_Approved</th>\n",
       "      <th>Bureaucratic_Code_0_Approval</th>\n",
       "      <th>Bureaucratic_Code_0_Approved</th>\n",
       "      <th>Submitted_for_Approval</th>\n",
       "      <th>Bureaucratic_Code</th>\n",
       "      <th>Account_Created_Date</th>\n",
       "      <th>Source</th>\n",
       "      <th>...</th>\n",
       "      <th>Delivery_Quarter</th>\n",
       "      <th>Delivery_Year</th>\n",
       "      <th>Actual_Delivery_Date</th>\n",
       "      <th>TRF</th>\n",
       "      <th>Total_Amount_Currency</th>\n",
       "      <th>Total_Amount</th>\n",
       "      <th>Total_Taxable_Amount_Currency</th>\n",
       "      <th>Total_Taxable_Amount</th>\n",
       "      <th>Stage</th>\n",
       "      <th>Prod_Category_A</th>\n",
       "    </tr>\n",
       "    <tr>\n",
       "      <th>ID</th>\n",
       "      <th></th>\n",
       "      <th></th>\n",
       "      <th></th>\n",
       "      <th></th>\n",
       "      <th></th>\n",
       "      <th></th>\n",
       "      <th></th>\n",
       "      <th></th>\n",
       "      <th></th>\n",
       "      <th></th>\n",
       "      <th></th>\n",
       "      <th></th>\n",
       "      <th></th>\n",
       "      <th></th>\n",
       "      <th></th>\n",
       "      <th></th>\n",
       "      <th></th>\n",
       "      <th></th>\n",
       "      <th></th>\n",
       "      <th></th>\n",
       "      <th></th>\n",
       "    </tr>\n",
       "  </thead>\n",
       "  <tbody>\n",
       "    <tr>\n",
       "      <th>27761</th>\n",
       "      <td>EMEA</td>\n",
       "      <td>None</td>\n",
       "      <td>1</td>\n",
       "      <td>1</td>\n",
       "      <td>1</td>\n",
       "      <td>1</td>\n",
       "      <td>0</td>\n",
       "      <td>Bureaucratic_Code_4</td>\n",
       "      <td>6/16/2015</td>\n",
       "      <td>None</td>\n",
       "      <td>...</td>\n",
       "      <td>Q2</td>\n",
       "      <td>2016</td>\n",
       "      <td>NaT</td>\n",
       "      <td>10</td>\n",
       "      <td>EUR</td>\n",
       "      <td>5272800.00</td>\n",
       "      <td>EUR</td>\n",
       "      <td>5272800.0</td>\n",
       "      <td>Closed Lost</td>\n",
       "      <td>Prod_Category_A_None</td>\n",
       "    </tr>\n",
       "    <tr>\n",
       "      <th>27760</th>\n",
       "      <td>EMEA</td>\n",
       "      <td>None</td>\n",
       "      <td>0</td>\n",
       "      <td>0</td>\n",
       "      <td>0</td>\n",
       "      <td>0</td>\n",
       "      <td>0</td>\n",
       "      <td>Bureaucratic_Code_4</td>\n",
       "      <td>6/16/2015</td>\n",
       "      <td>None</td>\n",
       "      <td>...</td>\n",
       "      <td>Q1</td>\n",
       "      <td>2016</td>\n",
       "      <td>NaT</td>\n",
       "      <td>0</td>\n",
       "      <td>EUR</td>\n",
       "      <td>48230.00</td>\n",
       "      <td>EUR</td>\n",
       "      <td>48230.0</td>\n",
       "      <td>Closed Won</td>\n",
       "      <td>Prod_Category_A_None</td>\n",
       "    </tr>\n",
       "    <tr>\n",
       "      <th>27446</th>\n",
       "      <td>Americas</td>\n",
       "      <td>NW America</td>\n",
       "      <td>0</td>\n",
       "      <td>0</td>\n",
       "      <td>0</td>\n",
       "      <td>0</td>\n",
       "      <td>0</td>\n",
       "      <td>Bureaucratic_Code_4</td>\n",
       "      <td>4/21/2015</td>\n",
       "      <td>Source_7</td>\n",
       "      <td>...</td>\n",
       "      <td>Q1</td>\n",
       "      <td>2016</td>\n",
       "      <td>NaT</td>\n",
       "      <td>0</td>\n",
       "      <td>USD</td>\n",
       "      <td>83865.60</td>\n",
       "      <td>USD</td>\n",
       "      <td>83865.6</td>\n",
       "      <td>Closed Won</td>\n",
       "      <td>Prod_Category_A_None</td>\n",
       "    </tr>\n",
       "    <tr>\n",
       "      <th>16808</th>\n",
       "      <td>Americas</td>\n",
       "      <td>NW America</td>\n",
       "      <td>1</td>\n",
       "      <td>0</td>\n",
       "      <td>1</td>\n",
       "      <td>0</td>\n",
       "      <td>0</td>\n",
       "      <td>Bureaucratic_Code_5</td>\n",
       "      <td>7/27/2013</td>\n",
       "      <td>Source_11</td>\n",
       "      <td>...</td>\n",
       "      <td>Q1</td>\n",
       "      <td>2018</td>\n",
       "      <td>NaT</td>\n",
       "      <td>14</td>\n",
       "      <td>USD</td>\n",
       "      <td>7421881.50</td>\n",
       "      <td>USD</td>\n",
       "      <td>7421881.5</td>\n",
       "      <td>Closed Lost</td>\n",
       "      <td>Prod_Category_A_None</td>\n",
       "    </tr>\n",
       "    <tr>\n",
       "      <th>16805</th>\n",
       "      <td>Americas</td>\n",
       "      <td>NW America</td>\n",
       "      <td>1</td>\n",
       "      <td>0</td>\n",
       "      <td>1</td>\n",
       "      <td>0</td>\n",
       "      <td>0</td>\n",
       "      <td>Bureaucratic_Code_5</td>\n",
       "      <td>7/27/2013</td>\n",
       "      <td>Source_11</td>\n",
       "      <td>...</td>\n",
       "      <td>Q1</td>\n",
       "      <td>2018</td>\n",
       "      <td>NaT</td>\n",
       "      <td>25</td>\n",
       "      <td>USD</td>\n",
       "      <td>13357192.50</td>\n",
       "      <td>USD</td>\n",
       "      <td>13357192.5</td>\n",
       "      <td>Closed Lost</td>\n",
       "      <td>Prod_Category_A_None</td>\n",
       "    </tr>\n",
       "    <tr>\n",
       "      <th>...</th>\n",
       "      <td>...</td>\n",
       "      <td>...</td>\n",
       "      <td>...</td>\n",
       "      <td>...</td>\n",
       "      <td>...</td>\n",
       "      <td>...</td>\n",
       "      <td>...</td>\n",
       "      <td>...</td>\n",
       "      <td>...</td>\n",
       "      <td>...</td>\n",
       "      <td>...</td>\n",
       "      <td>...</td>\n",
       "      <td>...</td>\n",
       "      <td>...</td>\n",
       "      <td>...</td>\n",
       "      <td>...</td>\n",
       "      <td>...</td>\n",
       "      <td>...</td>\n",
       "      <td>...</td>\n",
       "      <td>...</td>\n",
       "      <td>...</td>\n",
       "    </tr>\n",
       "    <tr>\n",
       "      <th>8781</th>\n",
       "      <td>EMEA</td>\n",
       "      <td>Austria</td>\n",
       "      <td>1</td>\n",
       "      <td>1</td>\n",
       "      <td>1</td>\n",
       "      <td>1</td>\n",
       "      <td>0</td>\n",
       "      <td>Bureaucratic_Code_4</td>\n",
       "      <td>1/15/2016</td>\n",
       "      <td>Source_7</td>\n",
       "      <td>...</td>\n",
       "      <td>Q1</td>\n",
       "      <td>2016</td>\n",
       "      <td>NaT</td>\n",
       "      <td>0</td>\n",
       "      <td>EUR</td>\n",
       "      <td>103350.00</td>\n",
       "      <td>EUR</td>\n",
       "      <td>299715.0</td>\n",
       "      <td>Closed Won</td>\n",
       "      <td>Prod_Category_A_None</td>\n",
       "    </tr>\n",
       "    <tr>\n",
       "      <th>8786</th>\n",
       "      <td>EMEA</td>\n",
       "      <td>Austria</td>\n",
       "      <td>1</td>\n",
       "      <td>1</td>\n",
       "      <td>1</td>\n",
       "      <td>1</td>\n",
       "      <td>0</td>\n",
       "      <td>Bureaucratic_Code_4</td>\n",
       "      <td>1/15/2016</td>\n",
       "      <td>Source_7</td>\n",
       "      <td>...</td>\n",
       "      <td>Q2</td>\n",
       "      <td>2016</td>\n",
       "      <td>NaT</td>\n",
       "      <td>0</td>\n",
       "      <td>EUR</td>\n",
       "      <td>93015.00</td>\n",
       "      <td>EUR</td>\n",
       "      <td>299715.0</td>\n",
       "      <td>Closed Won</td>\n",
       "      <td>Prod_Category_A_None</td>\n",
       "    </tr>\n",
       "    <tr>\n",
       "      <th>8792</th>\n",
       "      <td>EMEA</td>\n",
       "      <td>Austria</td>\n",
       "      <td>1</td>\n",
       "      <td>1</td>\n",
       "      <td>1</td>\n",
       "      <td>1</td>\n",
       "      <td>0</td>\n",
       "      <td>Bureaucratic_Code_4</td>\n",
       "      <td>1/15/2016</td>\n",
       "      <td>Source_7</td>\n",
       "      <td>...</td>\n",
       "      <td>Q1</td>\n",
       "      <td>2016</td>\n",
       "      <td>NaT</td>\n",
       "      <td>0</td>\n",
       "      <td>EUR</td>\n",
       "      <td>103350.00</td>\n",
       "      <td>EUR</td>\n",
       "      <td>299715.0</td>\n",
       "      <td>Closed Won</td>\n",
       "      <td>Prod_Category_A_None</td>\n",
       "    </tr>\n",
       "    <tr>\n",
       "      <th>28561</th>\n",
       "      <td>Americas</td>\n",
       "      <td>NE America</td>\n",
       "      <td>1</td>\n",
       "      <td>1</td>\n",
       "      <td>1</td>\n",
       "      <td>1</td>\n",
       "      <td>0</td>\n",
       "      <td>Bureaucratic_Code_4</td>\n",
       "      <td>10/20/2015</td>\n",
       "      <td>None</td>\n",
       "      <td>...</td>\n",
       "      <td>Q2</td>\n",
       "      <td>2016</td>\n",
       "      <td>NaT</td>\n",
       "      <td>4</td>\n",
       "      <td>USD</td>\n",
       "      <td>2346796.88</td>\n",
       "      <td>USD</td>\n",
       "      <td>0.0</td>\n",
       "      <td>Closed Lost</td>\n",
       "      <td>Prod_Category_A_None</td>\n",
       "    </tr>\n",
       "    <tr>\n",
       "      <th>28318</th>\n",
       "      <td>Americas</td>\n",
       "      <td>NE America</td>\n",
       "      <td>1</td>\n",
       "      <td>1</td>\n",
       "      <td>1</td>\n",
       "      <td>1</td>\n",
       "      <td>0</td>\n",
       "      <td>Bureaucratic_Code_4</td>\n",
       "      <td>9/3/2015</td>\n",
       "      <td>None</td>\n",
       "      <td>...</td>\n",
       "      <td>Q3</td>\n",
       "      <td>2016</td>\n",
       "      <td>NaT</td>\n",
       "      <td>40</td>\n",
       "      <td>USD</td>\n",
       "      <td>25603200.00</td>\n",
       "      <td>USD</td>\n",
       "      <td>0.0</td>\n",
       "      <td>Closed Lost</td>\n",
       "      <td>Prod_Category_A_None</td>\n",
       "    </tr>\n",
       "  </tbody>\n",
       "</table>\n",
       "<p>16947 rows × 51 columns</p>\n",
       "</div>"
      ],
      "text/plain": [
       "         Region   Territory  Pricing, Delivery_Terms_Quote_Appr  \\\n",
       "ID                                                                \n",
       "27761      EMEA        None                                   1   \n",
       "27760      EMEA        None                                   0   \n",
       "27446  Americas  NW America                                   0   \n",
       "16808  Americas  NW America                                   1   \n",
       "16805  Americas  NW America                                   1   \n",
       "...         ...         ...                                 ...   \n",
       "8781       EMEA     Austria                                   1   \n",
       "8786       EMEA     Austria                                   1   \n",
       "8792       EMEA     Austria                                   1   \n",
       "28561  Americas  NE America                                   1   \n",
       "28318  Americas  NE America                                   1   \n",
       "\n",
       "       Pricing, Delivery_Terms_Approved  Bureaucratic_Code_0_Approval  \\\n",
       "ID                                                                      \n",
       "27761                                 1                             1   \n",
       "27760                                 0                             0   \n",
       "27446                                 0                             0   \n",
       "16808                                 0                             1   \n",
       "16805                                 0                             1   \n",
       "...                                 ...                           ...   \n",
       "8781                                  1                             1   \n",
       "8786                                  1                             1   \n",
       "8792                                  1                             1   \n",
       "28561                                 1                             1   \n",
       "28318                                 1                             1   \n",
       "\n",
       "       Bureaucratic_Code_0_Approved  Submitted_for_Approval  \\\n",
       "ID                                                            \n",
       "27761                             1                       0   \n",
       "27760                             0                       0   \n",
       "27446                             0                       0   \n",
       "16808                             0                       0   \n",
       "16805                             0                       0   \n",
       "...                             ...                     ...   \n",
       "8781                              1                       0   \n",
       "8786                              1                       0   \n",
       "8792                              1                       0   \n",
       "28561                             1                       0   \n",
       "28318                             1                       0   \n",
       "\n",
       "         Bureaucratic_Code Account_Created_Date    Source   ...  \\\n",
       "ID                                                          ...   \n",
       "27761  Bureaucratic_Code_4            6/16/2015       None  ...   \n",
       "27760  Bureaucratic_Code_4            6/16/2015       None  ...   \n",
       "27446  Bureaucratic_Code_4            4/21/2015   Source_7  ...   \n",
       "16808  Bureaucratic_Code_5            7/27/2013  Source_11  ...   \n",
       "16805  Bureaucratic_Code_5            7/27/2013  Source_11  ...   \n",
       "...                    ...                  ...        ...  ...   \n",
       "8781   Bureaucratic_Code_4            1/15/2016   Source_7  ...   \n",
       "8786   Bureaucratic_Code_4            1/15/2016   Source_7  ...   \n",
       "8792   Bureaucratic_Code_4            1/15/2016   Source_7  ...   \n",
       "28561  Bureaucratic_Code_4           10/20/2015       None  ...   \n",
       "28318  Bureaucratic_Code_4             9/3/2015       None  ...   \n",
       "\n",
       "      Delivery_Quarter Delivery_Year Actual_Delivery_Date  TRF  \\\n",
       "ID                                                               \n",
       "27761               Q2          2016                  NaT   10   \n",
       "27760               Q1          2016                  NaT    0   \n",
       "27446               Q1          2016                  NaT    0   \n",
       "16808               Q1          2018                  NaT   14   \n",
       "16805               Q1          2018                  NaT   25   \n",
       "...                ...           ...                  ...  ...   \n",
       "8781                Q1          2016                  NaT    0   \n",
       "8786                Q2          2016                  NaT    0   \n",
       "8792                Q1          2016                  NaT    0   \n",
       "28561               Q2          2016                  NaT    4   \n",
       "28318               Q3          2016                  NaT   40   \n",
       "\n",
       "      Total_Amount_Currency Total_Amount Total_Taxable_Amount_Currency  \\\n",
       "ID                                                                       \n",
       "27761                   EUR   5272800.00                           EUR   \n",
       "27760                   EUR     48230.00                           EUR   \n",
       "27446                   USD     83865.60                           USD   \n",
       "16808                   USD   7421881.50                           USD   \n",
       "16805                   USD  13357192.50                           USD   \n",
       "...                     ...          ...                           ...   \n",
       "8781                    EUR    103350.00                           EUR   \n",
       "8786                    EUR     93015.00                           EUR   \n",
       "8792                    EUR    103350.00                           EUR   \n",
       "28561                   USD   2346796.88                           USD   \n",
       "28318                   USD  25603200.00                           USD   \n",
       "\n",
       "      Total_Taxable_Amount        Stage       Prod_Category_A  \n",
       "ID                                                             \n",
       "27761            5272800.0  Closed Lost  Prod_Category_A_None  \n",
       "27760              48230.0   Closed Won  Prod_Category_A_None  \n",
       "27446              83865.6   Closed Won  Prod_Category_A_None  \n",
       "16808            7421881.5  Closed Lost  Prod_Category_A_None  \n",
       "16805           13357192.5  Closed Lost  Prod_Category_A_None  \n",
       "...                    ...          ...                   ...  \n",
       "8781              299715.0   Closed Won  Prod_Category_A_None  \n",
       "8786              299715.0   Closed Won  Prod_Category_A_None  \n",
       "8792              299715.0   Closed Won  Prod_Category_A_None  \n",
       "28561                  0.0  Closed Lost  Prod_Category_A_None  \n",
       "28318                  0.0  Closed Lost  Prod_Category_A_None  \n",
       "\n",
       "[16947 rows x 51 columns]"
      ]
     },
     "execution_count": 2,
     "metadata": {},
     "output_type": "execute_result"
    }
   ],
   "source": [
    "# Leo el archivo de entrenamiento\n",
    "df = pd.read_csv('Entrenamieto_ECI_2020.csv', index_col ='ID')\n",
    "df"
   ]
  },
  {
   "cell_type": "markdown",
   "metadata": {},
   "source": [
    "# Limpieza de datos"
   ]
  },
  {
   "cell_type": "code",
   "execution_count": 3,
   "metadata": {},
   "outputs": [],
   "source": [
    "df.loc[((df['Territory'] == 'None') & (df['Region'] == 'Japan')), 'Territory'] = 'Japan'"
   ]
  },
  {
   "cell_type": "code",
   "execution_count": 4,
   "metadata": {},
   "outputs": [
    {
     "data": {
      "text/plain": [
       "Americas       571\n",
       "EMEA           187\n",
       "Middle East     30\n",
       "Name: Region, dtype: int64"
      ]
     },
     "execution_count": 4,
     "metadata": {},
     "output_type": "execute_result"
    }
   ],
   "source": [
    "df_temp = df[df['Territory'] == 'None']['Region'].value_counts()\n",
    "df_temp"
   ]
  },
  {
   "cell_type": "markdown",
   "metadata": {},
   "source": [
    "## Quitar campos que definí como no relevantes para el modelo\n",
    "Genero una lista de campos que considero como no relevantes por diversos motivos:\n",
    "- Fechas que tienen demasiados registros para ser considerado como un campo con info consistente.\n",
    "- Variables con la mayoría de sus valores 'None'.\n",
    "- Variables con la mayoría de los registros en un valor determinado.\n",
    "- No existe un patrón identificable en el valor de cada oportunidad.\n",
    "- Baja confiabilidad en el dato. Ejemplo: 'Planned_Delivery_Start_Date'. De las 16k oportunidades listadas existen 986 fechas únicas en esta variable. Mi supuesto (a confirmar con FríoFrío) es que las personas que cargan las oportunidades lo ven como un campo a llenar sin demasiada rigurosidad. Otras variables con este \"inconveniente\" Planned_Delivery_End_Date, Last_Modified_Date, Last_Modified_By, Opportunity_Created_Date, Quote_Expiry_Date\n",
    "\n"
   ]
  },
  {
   "cell_type": "code",
   "execution_count": 5,
   "metadata": {},
   "outputs": [],
   "source": [
    "# Aquí defino la lista dropped_features para incluir todas las columnas que DESCARTARÉ para el modelo. \n",
    "# La justificación de droppear cada una está en FrioFrio_Features.ipynb\n",
    "dropped_features = ['Territory',\n",
    "                    'Submitted_for_Approval', \n",
    "                    'Account_Created_Date',\n",
    "                    'Billing_Country',\n",
    "                    'Opportunity_Name', \n",
    "                    'Opportunity_ID', \n",
    "                    'Sales_Contract_No', \n",
    "                    'Quote_Type', \n",
    "                    'Opportunity_Created_Date',\n",
    "                    'Brand', \n",
    "                    'Product_Type', \n",
    "                    'Size', \n",
    "                    'Product_Category_B', \n",
    "                    'Price', \n",
    "                    'Currency', \n",
    "                    'Last_Activity', \n",
    "                    'Quote_Expiry_Date',\n",
    "                    'Last_Modified_Date', \n",
    "                    'Last_Modified_By', \n",
    "                    'ASP_Currency', \n",
    "                    'ASP', \n",
    "                    'ASP_(converted)_Currency', \n",
    "                    'Planned_Delivery_Start_Date', \n",
    "                    'Planned_Delivery_End_Date', \n",
    "                    'Month',\n",
    "                    'Delivery_Year', \n",
    "                    'Actual_Delivery_Date',\n",
    "                    'Total_Amount',\n",
    "                    'Total_Amount_Currency',\n",
    "                    'Total_Taxable_Amount_Currency', \n",
    "                    'Prod_Category_A', \n",
    " ]"
   ]
  },
  {
   "cell_type": "code",
   "execution_count": 6,
   "metadata": {
    "scrolled": true
   },
   "outputs": [
    {
     "name": "stdout",
     "output_type": "stream",
     "text": [
      "<class 'pandas.core.frame.DataFrame'>\n",
      "Int64Index: 16947 entries, 27761 to 28318\n",
      "Data columns (total 20 columns):\n",
      " #   Column                              Non-Null Count  Dtype  \n",
      "---  ------                              --------------  -----  \n",
      " 0   Region                              16947 non-null  object \n",
      " 1   Pricing, Delivery_Terms_Quote_Appr  16947 non-null  int64  \n",
      " 2   Pricing, Delivery_Terms_Approved    16947 non-null  int64  \n",
      " 3   Bureaucratic_Code_0_Approval        16947 non-null  int64  \n",
      " 4   Bureaucratic_Code_0_Approved        16947 non-null  int64  \n",
      " 5   Bureaucratic_Code                   16947 non-null  object \n",
      " 6   Source                              16947 non-null  object \n",
      " 7   Account_Name                        16947 non-null  object \n",
      " 8   Account_Owner                       16947 non-null  object \n",
      " 9   Opportunity_Owner                   16947 non-null  object \n",
      " 10  Account_Type                        16947 non-null  object \n",
      " 11  Opportunity_Type                    16947 non-null  object \n",
      " 12  Delivery_Terms                      16947 non-null  object \n",
      " 13  Product_Family                      16947 non-null  object \n",
      " 14  Product_Name                        16947 non-null  object \n",
      " 15  ASP_(converted)                     13738 non-null  float64\n",
      " 16  Delivery_Quarter                    16947 non-null  object \n",
      " 17  TRF                                 16947 non-null  int64  \n",
      " 18  Total_Taxable_Amount                16947 non-null  float64\n",
      " 19  Stage                               16947 non-null  object \n",
      "dtypes: float64(2), int64(5), object(13)\n",
      "memory usage: 2.7+ MB\n"
     ]
    }
   ],
   "source": [
    "df = df.drop(columns=dropped_features)\n",
    "df.info()"
   ]
  },
  {
   "cell_type": "markdown",
   "metadata": {
    "heading_collapsed": true
   },
   "source": [
    "## Corregir los dtypes de variables\n",
    "Corrijo los dtypes de algunas variables según la info publicada en https://metadata.fundacionsadosky.org.ar/competition/20/#participate . Principalmente las fechas las convierto en datetime."
   ]
  },
  {
   "cell_type": "code",
   "execution_count": null,
   "metadata": {
    "hidden": true,
    "scrolled": true
   },
   "outputs": [],
   "source": [
    "# Modifico a datetime las variables que son fechas. Sean utilizadas o no.\n",
    "\n",
    "# df['Account_Created_Date'] = pd.to_datetime(df['Account_Created_Date'])\n",
    "# df1['Opportunity_Created_Date'] = pd.to_datetime(df1['Opportunity_Created_Date'])\n",
    "# df['Last_Activity'] = pd.to_datetime(df['Last_Activity'])\n",
    "# df1['Quote_Expiry_Date'] = pd.to_datetime(df1['Quote_Expiry_Date'])\n",
    "# df['Last_Modified_Date'] = pd.to_datetime(df['Last_Modified_Date'])\n",
    "# df1['Planned_Delivery_Start_Date'] = pd.to_datetime(df1['Planned_Delivery_Start_Date'])\n",
    "# df1['Planned_Delivery_End_Date'] = pd.to_datetime(df1['Planned_Delivery_End_Date'])\n",
    "# df['Actual_Delivery_Date'] = pd.to_datetime(df['Actual_Delivery_Date'])\n",
    "\n",
    "# df1.info()"
   ]
  },
  {
   "cell_type": "markdown",
   "metadata": {},
   "source": [
    "## Eliminar las oportunidades que están activas\n",
    "Dado que no conozco el resultado de las oportunidades activas las elimino de los datos que utilizaré para crear el modelo de predicción."
   ]
  },
  {
   "cell_type": "code",
   "execution_count": 7,
   "metadata": {
    "scrolled": true
   },
   "outputs": [
    {
     "name": "stdout",
     "output_type": "stream",
     "text": [
      "<class 'pandas.core.frame.DataFrame'>\n",
      "Int64Index: 16883 entries, 27761 to 28318\n",
      "Data columns (total 20 columns):\n",
      " #   Column                              Non-Null Count  Dtype  \n",
      "---  ------                              --------------  -----  \n",
      " 0   Region                              16883 non-null  object \n",
      " 1   Pricing, Delivery_Terms_Quote_Appr  16883 non-null  int64  \n",
      " 2   Pricing, Delivery_Terms_Approved    16883 non-null  int64  \n",
      " 3   Bureaucratic_Code_0_Approval        16883 non-null  int64  \n",
      " 4   Bureaucratic_Code_0_Approved        16883 non-null  int64  \n",
      " 5   Bureaucratic_Code                   16883 non-null  object \n",
      " 6   Source                              16883 non-null  object \n",
      " 7   Account_Name                        16883 non-null  object \n",
      " 8   Account_Owner                       16883 non-null  object \n",
      " 9   Opportunity_Owner                   16883 non-null  object \n",
      " 10  Account_Type                        16883 non-null  object \n",
      " 11  Opportunity_Type                    16883 non-null  object \n",
      " 12  Delivery_Terms                      16883 non-null  object \n",
      " 13  Product_Family                      16883 non-null  object \n",
      " 14  Product_Name                        16883 non-null  object \n",
      " 15  ASP_(converted)                     13679 non-null  float64\n",
      " 16  Delivery_Quarter                    16883 non-null  object \n",
      " 17  TRF                                 16883 non-null  int64  \n",
      " 18  Total_Taxable_Amount                16883 non-null  float64\n",
      " 19  Stage                               16883 non-null  object \n",
      "dtypes: float64(2), int64(5), object(13)\n",
      "memory usage: 2.7+ MB\n"
     ]
    }
   ],
   "source": [
    "df = df[(df['Stage'] == 'Closed Lost') | (df['Stage'] == 'Closed Won')]\n",
    "df.info()"
   ]
  },
  {
   "cell_type": "markdown",
   "metadata": {},
   "source": [
    "## Eliminar las 112 oportunidades Account_Type = 'None'\n",
    "Existen 112 oportunidades que no tienen un Account_Type. Me gustaría conocer como se asigna esta variable. Dado que son menos del 1% de los registros los eliminaré del modelado."
   ]
  },
  {
   "cell_type": "code",
   "execution_count": 8,
   "metadata": {
    "scrolled": true
   },
   "outputs": [
    {
     "name": "stdout",
     "output_type": "stream",
     "text": [
      "<class 'pandas.core.frame.DataFrame'>\n",
      "Int64Index: 16771 entries, 27761 to 28318\n",
      "Data columns (total 20 columns):\n",
      " #   Column                              Non-Null Count  Dtype  \n",
      "---  ------                              --------------  -----  \n",
      " 0   Region                              16771 non-null  object \n",
      " 1   Pricing, Delivery_Terms_Quote_Appr  16771 non-null  int64  \n",
      " 2   Pricing, Delivery_Terms_Approved    16771 non-null  int64  \n",
      " 3   Bureaucratic_Code_0_Approval        16771 non-null  int64  \n",
      " 4   Bureaucratic_Code_0_Approved        16771 non-null  int64  \n",
      " 5   Bureaucratic_Code                   16771 non-null  object \n",
      " 6   Source                              16771 non-null  object \n",
      " 7   Account_Name                        16771 non-null  object \n",
      " 8   Account_Owner                       16771 non-null  object \n",
      " 9   Opportunity_Owner                   16771 non-null  object \n",
      " 10  Account_Type                        16771 non-null  object \n",
      " 11  Opportunity_Type                    16771 non-null  object \n",
      " 12  Delivery_Terms                      16771 non-null  object \n",
      " 13  Product_Family                      16771 non-null  object \n",
      " 14  Product_Name                        16771 non-null  object \n",
      " 15  ASP_(converted)                     13568 non-null  float64\n",
      " 16  Delivery_Quarter                    16771 non-null  object \n",
      " 17  TRF                                 16771 non-null  int64  \n",
      " 18  Total_Taxable_Amount                16771 non-null  float64\n",
      " 19  Stage                               16771 non-null  object \n",
      "dtypes: float64(2), int64(5), object(13)\n",
      "memory usage: 2.7+ MB\n"
     ]
    }
   ],
   "source": [
    "df = df[df['Account_Type'] != 'None']\n",
    "df.info()"
   ]
  },
  {
   "cell_type": "markdown",
   "metadata": {},
   "source": [
    "## ASP_(converted)"
   ]
  },
  {
   "cell_type": "code",
   "execution_count": 9,
   "metadata": {
    "scrolled": true
   },
   "outputs": [
    {
     "name": "stdout",
     "output_type": "stream",
     "text": [
      "<class 'pandas.core.frame.DataFrame'>\n",
      "Int64Index: 13261 entries, 27761 to 28318\n",
      "Data columns (total 20 columns):\n",
      " #   Column                              Non-Null Count  Dtype  \n",
      "---  ------                              --------------  -----  \n",
      " 0   Region                              13261 non-null  object \n",
      " 1   Pricing, Delivery_Terms_Quote_Appr  13261 non-null  int64  \n",
      " 2   Pricing, Delivery_Terms_Approved    13261 non-null  int64  \n",
      " 3   Bureaucratic_Code_0_Approval        13261 non-null  int64  \n",
      " 4   Bureaucratic_Code_0_Approved        13261 non-null  int64  \n",
      " 5   Bureaucratic_Code                   13261 non-null  object \n",
      " 6   Source                              13261 non-null  object \n",
      " 7   Account_Name                        13261 non-null  object \n",
      " 8   Account_Owner                       13261 non-null  object \n",
      " 9   Opportunity_Owner                   13261 non-null  object \n",
      " 10  Account_Type                        13261 non-null  object \n",
      " 11  Opportunity_Type                    13261 non-null  object \n",
      " 12  Delivery_Terms                      13261 non-null  object \n",
      " 13  Product_Family                      13261 non-null  object \n",
      " 14  Product_Name                        13261 non-null  object \n",
      " 15  ASP_(converted)                     13261 non-null  float64\n",
      " 16  Delivery_Quarter                    13261 non-null  object \n",
      " 17  TRF                                 13261 non-null  int64  \n",
      " 18  Total_Taxable_Amount                13261 non-null  float64\n",
      " 19  Stage                               13261 non-null  object \n",
      "dtypes: float64(2), int64(5), object(13)\n",
      "memory usage: 2.1+ MB\n"
     ]
    }
   ],
   "source": [
    "# elimino los ASP mayores a 1 y los menores a 0.1 por Outliers\n",
    "df = df[(df['ASP_(converted)']<1) & (df['ASP_(converted)']>0.1)]\n",
    "df.info()"
   ]
  },
  {
   "cell_type": "markdown",
   "metadata": {
    "heading_collapsed": true
   },
   "source": [
    "## Delivery_Time (variable creada) (NO UTILIZADO)\n",
    "Creo la variable df['Delivery_Time'] = df['Planned_Delivery_End_Date'] - df['Planned_Delivery_Start_Date'] y elimino las otras dos del calculo."
   ]
  },
  {
   "cell_type": "code",
   "execution_count": null,
   "metadata": {
    "hidden": true
   },
   "outputs": [],
   "source": [
    "# df1['Delivery_Time'] = df1['Planned_Delivery_End_Date']-df1['Planned_Delivery_Start_Date']\n",
    "# df1['Delivery_Time'] = df1['Delivery_Time'].dt.components.days\n",
    "# df1 = df1[(df1['Delivery_Time']<100) \n",
    "# #           & (df1['Delivery_Time']<0)\n",
    "#          ]\n",
    "# df1 = df1.drop(columns=['Planned_Delivery_End_Date', 'Planned_Delivery_Start_Date'])\n",
    "# df1.info()"
   ]
  },
  {
   "cell_type": "markdown",
   "metadata": {},
   "source": [
    "## Convertir `Stage` en binaria\n",
    "Utilizo la siguiente convención 1 = 'Closed Won' y 0 = 'Closed Lost'"
   ]
  },
  {
   "cell_type": "code",
   "execution_count": 10,
   "metadata": {
    "scrolled": true
   },
   "outputs": [
    {
     "data": {
      "text/plain": [
       "ID\n",
       "27761    0\n",
       "27760    1\n",
       "27446    1\n",
       "16808    0\n",
       "16805    0\n",
       "        ..\n",
       "8781     1\n",
       "8786     1\n",
       "8792     1\n",
       "28561    0\n",
       "28318    0\n",
       "Name: Stage, Length: 13261, dtype: int64"
      ]
     },
     "execution_count": 10,
     "metadata": {},
     "output_type": "execute_result"
    }
   ],
   "source": [
    "df['Stage'] = df['Stage'].replace('Closed Won', 1)\n",
    "df['Stage'] = df['Stage'].replace('Closed Lost', 0)\n",
    "df['Stage']"
   ]
  },
  {
   "cell_type": "markdown",
   "metadata": {},
   "source": [
    "# Dummies o Encoder"
   ]
  },
  {
   "cell_type": "markdown",
   "metadata": {},
   "source": [
    "- Pasar las variables a dummies\n",
    "- Separar en X e y\n",
    "- Separar en Train y Test con train_test_split\n",
    "- Elegir modelo\n",
    "- Cargar el modelo con X_train e y_train y Fittearlo\n",
    "- Predecir el modelo con los valores de X_test. Predict\n",
    "- Comparar el resultado de la predicción con los valores y_test"
   ]
  },
  {
   "cell_type": "code",
   "execution_count": 11,
   "metadata": {},
   "outputs": [],
   "source": [
    "# - Separar en X e y\n",
    "X = df.drop(columns=['Stage'])\n",
    "y = df['Stage']"
   ]
  },
  {
   "cell_type": "code",
   "execution_count": null,
   "metadata": {},
   "outputs": [],
   "source": [
    "# from sklearn.preprocessing import LabelEncoder\n",
    "# le = LabelEncoder()"
   ]
  },
  {
   "cell_type": "code",
   "execution_count": null,
   "metadata": {
    "scrolled": false
   },
   "outputs": [],
   "source": [
    "# dummy_variables = list(X.select_dtypes(include='object').columns)\n",
    "# for dummy in dummy_variables:\n",
    "#     le.fit(X[dummy])\n",
    "#     X[dummy] = le.transform(X[dummy])\n",
    "# X.head()"
   ]
  },
  {
   "cell_type": "code",
   "execution_count": 12,
   "metadata": {},
   "outputs": [
    {
     "data": {
      "text/plain": [
       "array([[0., 0., 1., ..., 0., 0., 0.],\n",
       "       [0., 0., 1., ..., 0., 0., 0.],\n",
       "       [0., 1., 0., ..., 0., 0., 0.],\n",
       "       ...,\n",
       "       [0., 0., 1., ..., 0., 0., 0.],\n",
       "       [0., 1., 0., ..., 0., 0., 0.],\n",
       "       [0., 1., 0., ..., 0., 0., 0.]])"
      ]
     },
     "execution_count": 12,
     "metadata": {},
     "output_type": "execute_result"
    }
   ],
   "source": [
    "# - Pasar las variables a dummies\n",
    "\n",
    "# Estas son las variables que debo pasar a dummies/Hotencodear\n",
    "# dummy_variables = list(df1.select_dtypes(include='object').columns)\n",
    "# dummy_variables\n",
    "\n",
    "from sklearn.preprocessing import OneHotEncoder\n",
    "ohe = OneHotEncoder(handle_unknown='ignore',\n",
    "                    sparse= False                    \n",
    "#     categories= dummy_variables\n",
    "    )\n",
    "X1= ohe.fit_transform(X)\n",
    "X1"
   ]
  },
  {
   "cell_type": "code",
   "execution_count": 13,
   "metadata": {},
   "outputs": [],
   "source": [
    "# - Separar en Train y Test\n",
    "\n",
    "from sklearn.model_selection import train_test_split\n",
    "\n",
    "X_train, X_test, y_train, y_test = train_test_split(\n",
    "    X1, y, test_size=0.2, random_state=42)"
   ]
  },
  {
   "cell_type": "markdown",
   "metadata": {},
   "source": [
    "# Modelos"
   ]
  },
  {
   "cell_type": "markdown",
   "metadata": {},
   "source": [
    "## LinearRegression"
   ]
  },
  {
   "cell_type": "code",
   "execution_count": null,
   "metadata": {},
   "outputs": [],
   "source": [
    "# - Elegir el modelo y fittearlo\n",
    "from sklearn.linear_model import LinearRegression\n",
    "lr = LinearRegression()\n",
    "lr.fit(X_train,y_train)"
   ]
  },
  {
   "cell_type": "code",
   "execution_count": null,
   "metadata": {},
   "outputs": [],
   "source": [
    "# - Predecir el valor de X_test\n",
    "y_pred_LinearRegression = lr.predict(X_test)\n",
    "y_pred_LinearRegression"
   ]
  },
  {
   "cell_type": "code",
   "execution_count": null,
   "metadata": {},
   "outputs": [],
   "source": [
    "# - Evaluar con log_loss\n",
    "log_loss(y_test, y_pred_LinearRegression)"
   ]
  },
  {
   "cell_type": "markdown",
   "metadata": {},
   "source": [
    "## Support Vector Regression"
   ]
  },
  {
   "cell_type": "code",
   "execution_count": 14,
   "metadata": {},
   "outputs": [],
   "source": [
    "from sklearn import svm"
   ]
  },
  {
   "cell_type": "code",
   "execution_count": null,
   "metadata": {},
   "outputs": [],
   "source": [
    "svr = svm.SVR(kernel = 'poly',\n",
    "              degree=5,\n",
    "              gamma= 'scale',\n",
    "              C=1\n",
    "             )\n",
    "svr.fit(X_train,y_train)\n",
    "y_pred_svr = svr.predict(X_test)\n",
    "y_pred_svr"
   ]
  },
  {
   "cell_type": "code",
   "execution_count": null,
   "metadata": {},
   "outputs": [],
   "source": [
    "svr.score(X_test, y_test)"
   ]
  },
  {
   "cell_type": "code",
   "execution_count": null,
   "metadata": {
    "scrolled": true
   },
   "outputs": [],
   "source": [
    "log_loss(y_test, y_pred_svr)"
   ]
  },
  {
   "cell_type": "markdown",
   "metadata": {
    "heading_collapsed": true
   },
   "source": [
    "## Linear SVR"
   ]
  },
  {
   "cell_type": "code",
   "execution_count": null,
   "metadata": {
    "hidden": true
   },
   "outputs": [],
   "source": [
    "from sklearn.svm import LinearSVR"
   ]
  },
  {
   "cell_type": "code",
   "execution_count": null,
   "metadata": {
    "hidden": true
   },
   "outputs": [],
   "source": [
    "linsvr = LinearSVR()\n",
    "linsvr.fit(X_train, y_train)\n",
    "y_pred_linsvr = linsvr.predict(X_test)\n",
    "y_pred_linsvr"
   ]
  },
  {
   "cell_type": "code",
   "execution_count": null,
   "metadata": {
    "hidden": true
   },
   "outputs": [],
   "source": [
    "log_loss(y_test, y_pred_linsvr).round(5)"
   ]
  },
  {
   "cell_type": "markdown",
   "metadata": {
    "heading_collapsed": true
   },
   "source": [
    "## NuSVR"
   ]
  },
  {
   "cell_type": "code",
   "execution_count": null,
   "metadata": {
    "hidden": true
   },
   "outputs": [],
   "source": [
    "from sklearn.svm import NuSVR"
   ]
  },
  {
   "cell_type": "code",
   "execution_count": null,
   "metadata": {
    "hidden": true
   },
   "outputs": [],
   "source": [
    "nusvr = NuSVR()\n",
    "nusvr.fit(X_train, y_train)\n",
    "y_pred_nusvr = nusvr.predict(X_test)\n",
    "y_pred_nusvr"
   ]
  },
  {
   "cell_type": "code",
   "execution_count": null,
   "metadata": {
    "hidden": true
   },
   "outputs": [],
   "source": [
    "log_loss(y_test, y_pred_nusvr).round(5)"
   ]
  },
  {
   "cell_type": "markdown",
   "metadata": {
    "heading_collapsed": true
   },
   "source": [
    "## Logistic Regression"
   ]
  },
  {
   "cell_type": "code",
   "execution_count": null,
   "metadata": {
    "hidden": true
   },
   "outputs": [],
   "source": []
  },
  {
   "cell_type": "code",
   "execution_count": null,
   "metadata": {
    "hidden": true
   },
   "outputs": [],
   "source": [
    "log_loss(y_test, y_pred_svr).round(5)"
   ]
  },
  {
   "cell_type": "markdown",
   "metadata": {
    "heading_collapsed": true
   },
   "source": [
    "## Random Forest Regressor"
   ]
  },
  {
   "cell_type": "code",
   "execution_count": null,
   "metadata": {
    "hidden": true
   },
   "outputs": [],
   "source": [
    "from sklearn.ensemble import RandomForestRegressor"
   ]
  },
  {
   "cell_type": "code",
   "execution_count": null,
   "metadata": {
    "hidden": true
   },
   "outputs": [],
   "source": [
    "rfr = RandomForestRegressor(max_depth=5, random_state=0)\n",
    "rfr.fit(X_train,y_train)\n",
    "y_pred_rfr = rfr.predict(X_test)\n",
    "y_pred_rfr"
   ]
  },
  {
   "cell_type": "code",
   "execution_count": null,
   "metadata": {
    "hidden": true
   },
   "outputs": [],
   "source": [
    "log_loss(y_test, y_pred_rfr)"
   ]
  },
  {
   "cell_type": "markdown",
   "metadata": {
    "heading_collapsed": true
   },
   "source": [
    "# Evaluación del modelo"
   ]
  },
  {
   "cell_type": "code",
   "execution_count": null,
   "metadata": {
    "hidden": true
   },
   "outputs": [],
   "source": [
    "y_pred"
   ]
  },
  {
   "cell_type": "code",
   "execution_count": null,
   "metadata": {
    "hidden": true
   },
   "outputs": [],
   "source": [
    "y_test"
   ]
  },
  {
   "cell_type": "code",
   "execution_count": null,
   "metadata": {
    "hidden": true
   },
   "outputs": [],
   "source": []
  },
  {
   "cell_type": "markdown",
   "metadata": {},
   "source": [
    "# Predicción de mi modelo"
   ]
  },
  {
   "cell_type": "markdown",
   "metadata": {},
   "source": [
    "- Leer `Validacion_ECI_2020.csv`\n",
    "- Codificar las variables con los mismos pasos que `Entrenamieto.csv`\n",
    "- Predecir en un `y_pred` el resultado de utilizar mi modelo en `X_val`"
   ]
  },
  {
   "cell_type": "code",
   "execution_count": null,
   "metadata": {
    "scrolled": true
   },
   "outputs": [],
   "source": [
    "df_val = pd.read_csv('Validacion_ECI_2020.csv', index_col='ID')\n",
    "df_val"
   ]
  },
  {
   "cell_type": "code",
   "execution_count": null,
   "metadata": {},
   "outputs": [],
   "source": [
    "df_val = df_val.drop(columns=dropped_features)\n",
    "df_val.info()"
   ]
  },
  {
   "cell_type": "code",
   "execution_count": null,
   "metadata": {
    "scrolled": true
   },
   "outputs": [],
   "source": [
    "df_val = df_val.fillna(df_val['ASP_(converted)'].mean())"
   ]
  },
  {
   "cell_type": "code",
   "execution_count": null,
   "metadata": {
    "scrolled": true
   },
   "outputs": [],
   "source": [
    "X_val = ohe.transform(df_val)"
   ]
  },
  {
   "cell_type": "code",
   "execution_count": null,
   "metadata": {},
   "outputs": [],
   "source": [
    "# Indicar cual es el modelo elegido para la predicción. Utilizar el que tiene menor log_loss de los analizados.\n",
    "model = svm"
   ]
  },
  {
   "cell_type": "code",
   "execution_count": null,
   "metadata": {
    "scrolled": true
   },
   "outputs": [],
   "source": [
    "y_val_pred = model.predict(X_val)\n",
    "y_val_pred"
   ]
  },
  {
   "cell_type": "code",
   "execution_count": null,
   "metadata": {},
   "outputs": [],
   "source": [
    "d = {'Opportunity_ID': df_val.index, 'score': y_val_pred}\n",
    "output = pd.DataFrame(d)\n",
    "output.index = output['Opportunity_ID']\n",
    "output.to_csv('pmolteni_prediccion.csv', index=False)"
   ]
  },
  {
   "cell_type": "markdown",
   "metadata": {
    "heading_collapsed": true
   },
   "source": [
    "# Anexo"
   ]
  },
  {
   "cell_type": "code",
   "execution_count": null,
   "metadata": {
    "hidden": true
   },
   "outputs": [],
   "source": [
    "from sklearn.svm import LinearSVC\n",
    "# from sklearn.model_selection import train_test_split\n",
    "from sklearn.model_selection import GridSearchCV\n",
    "\n",
    "# dropped_features.append('Stage')\n",
    "# X = df1.drop(columns=['Stage'])\n",
    "# y = df1['Stage']\n",
    "\n",
    "# X_train, X_test, y_train, y_test = train_test_split(X, y, test_size=0.2, random_state=42)\n",
    "\n",
    "# Fijo los parámetros de Linear SVC para que Grid Search combine y evalue \n",
    "parameters = {'C':[0.001, 0.01, 0.1, 1, 10],\n",
    "                'loss':['hinge', 'squared_hinge']}\n",
    "\n",
    "# Defino la variable con el modelo a utilizar\n",
    "linearsvc = LinearSVC()\n",
    "\n",
    "# Cargo grid_search con el modelo (linearsvc), el diccionario con los parámetros del SVC a evaluar (param_grid), CV=5 para que realice 5 cortes en la información a entrenar, scoring define el modo de evaluar el gridsearch con el área bajo la curva, return_train_score devuelve los resultados del train\n",
    "grid_search = GridSearchCV(linearsvc, param_grid= parameters, scoring = 'roc_auc' , cv=5, return_train_score=True) \n",
    "\n",
    "# Entreno el modelo con X_Train e y_train.\n",
    "grid_search.fit(X_train, y_train)"
   ]
  },
  {
   "cell_type": "code",
   "execution_count": null,
   "metadata": {
    "hidden": true
   },
   "outputs": [],
   "source": [
    "# Quiero ver los resultados del mean_train_score de cada combinación que realizó GridSearch utilizando el modelo LinearSVC\n",
    "sorted(grid_search.cv_results_['mean_train_score'])"
   ]
  },
  {
   "cell_type": "code",
   "execution_count": null,
   "metadata": {
    "hidden": true
   },
   "outputs": [],
   "source": [
    "# Quiero ver los resultados del mean_test_score de cada combinación que realizó GridSearch utilizando el modelo LinearSVC\n",
    "sorted(grid_search.cv_results_['mean_test_score'])"
   ]
  },
  {
   "cell_type": "code",
   "execution_count": null,
   "metadata": {
    "hidden": true
   },
   "outputs": [],
   "source": [
    "# quiero conocer los mejores parámetros para SVC que hay encontrado mi grid Search \n",
    "grid_search.best_params_"
   ]
  },
  {
   "cell_type": "code",
   "execution_count": null,
   "metadata": {
    "hidden": true
   },
   "outputs": [],
   "source": [
    "# quiero conocer los mejores parámetros para SVC que hay encontrado mi grid Search \n",
    "grid_search.best_params_"
   ]
  }
 ],
 "metadata": {
  "kernelspec": {
   "display_name": "Python 3",
   "language": "python",
   "name": "python3"
  },
  "language_info": {
   "codemirror_mode": {
    "name": "ipython",
    "version": 3
   },
   "file_extension": ".py",
   "mimetype": "text/x-python",
   "name": "python",
   "nbconvert_exporter": "python",
   "pygments_lexer": "ipython3",
   "version": "3.7.3"
  },
  "toc": {
   "base_numbering": 1,
   "nav_menu": {},
   "number_sections": true,
   "sideBar": true,
   "skip_h1_title": false,
   "title_cell": "Table of Contents",
   "title_sidebar": "Contents",
   "toc_cell": false,
   "toc_position": {
    "height": "calc(100% - 180px)",
    "left": "10px",
    "top": "150px",
    "width": "197.188px"
   },
   "toc_section_display": true,
   "toc_window_display": true
  }
 },
 "nbformat": 4,
 "nbformat_minor": 4
}
